{
 "cells": [
  {
   "attachments": {},
   "cell_type": "markdown",
   "metadata": {},
   "source": [
    "# Trend趋势推荐 - 加权分数排序\n",
    "\n",
    "## 加权分数计算公式\n",
    "\n",
    "$$\n",
    "Weighted Rating(WR) = (\\frac{v}{v+m}R) + (\\frac{m}{v+m}C)\\\\\n",
    "v\\ is\\ the\\ number\\ of\\ votes\\ for\\ the\\ movie\\\\\n",
    "m\\ is\\ the\\ minimum\\ votes\\ required\\ to be listed\\ in the\\ chart\\\\\n",
    "R\\ is\\ the\\ average\\ rating\\ of\\ the\\ movie\\\\\n",
    "C\\ is\\ the\\ mean\\ vote\\ across\\ the whole\\ report\n",
    "$$"
   ]
  },
  {
   "cell_type": "code",
   "execution_count": 9,
   "metadata": {},
   "outputs": [],
   "source": [
    "# 读取ratings得出对于每个电影id的平均得分与评分人数\n",
    "import pandas as pd\n",
    "import numpy as np\n",
    "\n",
    "ratings = pd.read_csv('dataset/themovie/data_origin/ratings.csv')\n",
    "# header = ['userId', 'movieId', 'rating', 'timestamp']\n",
    "\n",
    "# 解析时间戳, 转换为年份, 只保留距离最大年份近1年的数据\n",
    "ratings['timestamp'] = pd.to_datetime(ratings['timestamp'], unit='s')\n",
    "ratings['timestamp'] = ratings['timestamp'].apply(lambda x: x.year)\n",
    "\n",
    "# 获取最大年份\n",
    "max_year = ratings['timestamp'].max()\n",
    "\n",
    "# 保留近1年的数据\n",
    "ratings = ratings[ratings['timestamp'] >= max_year - 1]\n",
    "\n",
    "# 读取电影id\n",
    "movieId = ratings['movieId'].unique()\n",
    "\n",
    "# 读取每个电影的平均得分\n",
    "movie_rating = ratings.groupby('movieId')['rating'].mean()\n",
    "# 读取每个电影的评分人数\n",
    "movie_rating_count = ratings.groupby('movieId')['rating'].count()\n",
    "\n",
    "# 将movie_rating与movie_rating_count合并保存为csv\n",
    "movie_rating = pd.DataFrame(movie_rating)\n",
    "movie_rating_count = pd.DataFrame(movie_rating_count)\n",
    "movie_rating = movie_rating.merge(movie_rating_count, left_index=True, right_index=True)\n",
    "movie_rating.columns = ['rating', 'rating_count']\n",
    "movie_rating.to_csv('dataset/themovie/movie_rating.csv', index=True, header=True)"
   ]
  },
  {
   "cell_type": "code",
   "execution_count": 10,
   "metadata": {},
   "outputs": [
    {
     "name": "stdout",
     "output_type": "stream",
     "text": [
      "保留至少90%的movieId的评分人数为： 93.0\n",
      "保留至少90%的movieId后，剩余电影数量为： 3992\n"
     ]
    }
   ],
   "source": [
    "# 保留至少90%的movieId\n",
    "m = movie_rating['rating_count'].quantile(0.9)\n",
    "print('保留至少90%的movieId的评分人数为：', m)\n",
    "\n",
    "# 看看有多少电影被保留\n",
    "movie_rating = movie_rating.copy().loc[movie_rating['rating_count'] >= m]\n",
    "\n",
    "print('保留至少90%的movieId后，剩余电影数量为：', len(movie_rating))"
   ]
  },
  {
   "cell_type": "code",
   "execution_count": 11,
   "metadata": {},
   "outputs": [
    {
     "data": {
      "text/html": [
       "<div>\n",
       "<style scoped>\n",
       "    .dataframe tbody tr th:only-of-type {\n",
       "        vertical-align: middle;\n",
       "    }\n",
       "\n",
       "    .dataframe tbody tr th {\n",
       "        vertical-align: top;\n",
       "    }\n",
       "\n",
       "    .dataframe thead th {\n",
       "        text-align: right;\n",
       "    }\n",
       "</style>\n",
       "<table border=\"1\" class=\"dataframe\">\n",
       "  <thead>\n",
       "    <tr style=\"text-align: right;\">\n",
       "      <th></th>\n",
       "      <th>rating</th>\n",
       "      <th>rating_count</th>\n",
       "      <th>score</th>\n",
       "    </tr>\n",
       "    <tr>\n",
       "      <th>movieId</th>\n",
       "      <th></th>\n",
       "      <th></th>\n",
       "      <th></th>\n",
       "    </tr>\n",
       "  </thead>\n",
       "  <tbody>\n",
       "    <tr>\n",
       "      <th>159817</th>\n",
       "      <td>4.478780</td>\n",
       "      <td>754</td>\n",
       "      <td>4.357643</td>\n",
       "    </tr>\n",
       "    <tr>\n",
       "      <th>318</th>\n",
       "      <td>4.353308</td>\n",
       "      <td>14193</td>\n",
       "      <td>4.346943</td>\n",
       "    </tr>\n",
       "    <tr>\n",
       "      <th>1203</th>\n",
       "      <td>4.287671</td>\n",
       "      <td>2263</td>\n",
       "      <td>4.251665</td>\n",
       "    </tr>\n",
       "    <tr>\n",
       "      <th>858</th>\n",
       "      <td>4.243621</td>\n",
       "      <td>7760</td>\n",
       "      <td>4.233341</td>\n",
       "    </tr>\n",
       "    <tr>\n",
       "      <th>5618</th>\n",
       "      <td>4.234541</td>\n",
       "      <td>4334</td>\n",
       "      <td>4.216495</td>\n",
       "    </tr>\n",
       "    <tr>\n",
       "      <th>296</th>\n",
       "      <td>4.222421</td>\n",
       "      <td>9509</td>\n",
       "      <td>4.214218</td>\n",
       "    </tr>\n",
       "    <tr>\n",
       "      <th>2959</th>\n",
       "      <td>4.214777</td>\n",
       "      <td>11931</td>\n",
       "      <td>4.208285</td>\n",
       "    </tr>\n",
       "    <tr>\n",
       "      <th>1221</th>\n",
       "      <td>4.218783</td>\n",
       "      <td>4781</td>\n",
       "      <td>4.202693</td>\n",
       "    </tr>\n",
       "    <tr>\n",
       "      <th>5971</th>\n",
       "      <td>4.205483</td>\n",
       "      <td>1769</td>\n",
       "      <td>4.164030</td>\n",
       "    </tr>\n",
       "    <tr>\n",
       "      <th>3000</th>\n",
       "      <td>4.192801</td>\n",
       "      <td>2028</td>\n",
       "      <td>4.156965</td>\n",
       "    </tr>\n",
       "    <tr>\n",
       "      <th>293</th>\n",
       "      <td>4.164428</td>\n",
       "      <td>4914</td>\n",
       "      <td>4.149775</td>\n",
       "    </tr>\n",
       "    <tr>\n",
       "      <th>112552</th>\n",
       "      <td>4.164177</td>\n",
       "      <td>4084</td>\n",
       "      <td>4.146618</td>\n",
       "    </tr>\n",
       "    <tr>\n",
       "      <th>79132</th>\n",
       "      <td>4.151434</td>\n",
       "      <td>12692</td>\n",
       "      <td>4.145790</td>\n",
       "    </tr>\n",
       "    <tr>\n",
       "      <th>1213</th>\n",
       "      <td>4.160571</td>\n",
       "      <td>4375</td>\n",
       "      <td>4.144231</td>\n",
       "    </tr>\n",
       "    <tr>\n",
       "      <th>170705</th>\n",
       "      <td>4.394366</td>\n",
       "      <td>284</td>\n",
       "      <td>4.143033</td>\n",
       "    </tr>\n",
       "  </tbody>\n",
       "</table>\n",
       "</div>"
      ],
      "text/plain": [
       "           rating  rating_count     score\n",
       "movieId                                  \n",
       "159817   4.478780           754  4.357643\n",
       "318      4.353308         14193  4.346943\n",
       "1203     4.287671          2263  4.251665\n",
       "858      4.243621          7760  4.233341\n",
       "5618     4.234541          4334  4.216495\n",
       "296      4.222421          9509  4.214218\n",
       "2959     4.214777         11931  4.208285\n",
       "1221     4.218783          4781  4.202693\n",
       "5971     4.205483          1769  4.164030\n",
       "3000     4.192801          2028  4.156965\n",
       "293      4.164428          4914  4.149775\n",
       "112552   4.164177          4084  4.146618\n",
       "79132    4.151434         12692  4.145790\n",
       "1213     4.160571          4375  4.144231\n",
       "170705   4.394366           284  4.143033"
      ]
     },
     "execution_count": 11,
     "metadata": {},
     "output_type": "execute_result"
    }
   ],
   "source": [
    "# 计算C\n",
    "C = movie_rating['rating'].mean()\n",
    "\n",
    "def weighted_rating(x, m=m, C=C):\n",
    "    v = x['rating_count']\n",
    "    R = x['rating']\n",
    "    \n",
    "    return (v/(v+m) * R) + (m/(m+v) * C)\n",
    "\n",
    "# calculate score\n",
    "movie_rating['score'] = movie_rating.apply(weighted_rating, axis=1)\n",
    "\n",
    "# sort score\n",
    "movie_rating = movie_rating.sort_values('score', ascending=False)\n",
    "\n",
    "# 前15名\n",
    "movie_rating.head(15)"
   ]
  },
  {
   "cell_type": "code",
   "execution_count": 12,
   "metadata": {},
   "outputs": [],
   "source": [
    "# 去掉rating和rating_count\n",
    "movie_rating = movie_rating.drop(['rating', 'rating_count'], axis=1)\n",
    "\n",
    "# 保存trend_movie.csv\n",
    "movie_rating.to_csv('result/trend_movie.csv', index=True, header=True)"
   ]
  },
  {
   "attachments": {},
   "cell_type": "markdown",
   "metadata": {},
   "source": [
    "# Content-Based推荐 - 电影内容相似度\n",
    "\n",
    "## 词向量相似度"
   ]
  },
  {
   "cell_type": "code",
   "execution_count": 1,
   "metadata": {},
   "outputs": [
    {
     "name": "stdout",
     "output_type": "stream",
     "text": [
      "0    Led by Woody, Andy's toys live happily in his ...\n",
      "1    When siblings Judy and Peter discover an encha...\n",
      "2    A family wedding reignites the ancient feud be...\n",
      "3    Cheated on, mistreated and stepped on, the wom...\n",
      "4    Just when George Banks has recovered from his ...\n",
      "Name: overview, dtype: object\n"
     ]
    },
    {
     "name": "stderr",
     "output_type": "stream",
     "text": [
      "C:\\Windows\\Temp\\ipykernel_26640\\2727195048.py:4: DtypeWarning: Columns (7) have mixed types. Specify dtype option on import or set low_memory=False.\n",
      "  movie = pd.read_csv('dataset/themovie/data_sql/movie.csv')\n"
     ]
    }
   ],
   "source": [
    "import pandas as pd\n",
    "\n",
    "# 读取movie.csv\n",
    "movie = pd.read_csv('dataset/themovie/data_sql/movie.csv')\n",
    "\n",
    "print (movie['overview'].head(5))"
   ]
  },
  {
   "attachments": {},
   "cell_type": "markdown",
   "metadata": {},
   "source": [
    "为每个overview计算`Term Frequency-Inverse Document Frequency` (TF-IDF)向量, 使用scikit-learn的`TfidfVectorizer`函数来生成TF-IDF矩阵\n"
   ]
  },
  {
   "cell_type": "code",
   "execution_count": 2,
   "metadata": {},
   "outputs": [
    {
     "data": {
      "text/plain": [
       "(45466, 48620)"
      ]
     },
     "execution_count": 2,
     "metadata": {},
     "output_type": "execute_result"
    }
   ],
   "source": [
    "from sklearn.feature_extraction.text import TfidfVectorizer\n",
    "\n",
    "# 定义一个移除所有english stop words如'the', 'a'的转换器\n",
    "tfidf = TfidfVectorizer(stop_words='english')\n",
    "\n",
    "# 替换NaN为''\n",
    "movie['overview'] = movie['overview'].fillna('')\n",
    "\n",
    "# 构建tfidf矩阵\n",
    "tfidf_matrix = tfidf.fit_transform(movie['overview'])\n",
    "\n",
    "# 输出矩阵形状\n",
    "tfidf_matrix.shape"
   ]
  },
  {
   "attachments": {},
   "cell_type": "markdown",
   "metadata": {},
   "source": [
    "计算相似度分数\n",
    "\n",
    "将使用cosine similarity score来计算overview之间的相似度\n",
    "$$\n",
    "similarity = cos(\\theta) = \\frac{A \\cdot B}{||A|| ||B||} = \\frac{\\sum_{i=1}^{n}A_iB_i}{\\sqrt{\\sum_{i=1}^{n}A_i^2}\\sqrt{\\sum_{i=1}^{n}B_i^2}}\n",
    "$$"
   ]
  },
  {
   "cell_type": "code",
   "execution_count": 3,
   "metadata": {},
   "outputs": [],
   "source": [
    "from sklearn.metrics.pairwise import linear_kernel\n",
    "\n",
    "# 计算余弦相似度\n",
    "cosine_sim = linear_kernel(tfidf_matrix, tfidf_matrix)"
   ]
  },
  {
   "attachments": {},
   "cell_type": "markdown",
   "metadata": {},
   "source": [
    "我们将定义一个将电影标题作为输入的函数，并输出10个最相似电影的列表。首先，为此，我们需要对电影标题和数据框架索引进行反向映射。"
   ]
  },
  {
   "cell_type": "code",
   "execution_count": 4,
   "metadata": {},
   "outputs": [],
   "source": [
    "# 构建电影标题和索引的反向映射\n",
    "indices = pd.Series(movie.index, index=movie['title']).drop_duplicates()\n",
    "\n",
    "# 为给定的电影标题，返回前20个相似的电影id, 和相似度\n",
    "def get_recommendations(title, cosine_sim=cosine_sim):\n",
    "    # 获取电影标题对应的索引\n",
    "    idx = indices[title]\n",
    "\n",
    "    # 如果找到的索引是一个列表（即有重复的电影标题），我们只取第一个\n",
    "    if type(idx) == pd.Series:\n",
    "        idx = idx.iloc[0]\n",
    "\n",
    "    # 获取该电影的所有相似度\n",
    "    sim_scores = list(enumerate(cosine_sim[idx]))\n",
    "\n",
    "    # 根据相似度排序\n",
    "    sim_scores = sorted(sim_scores, key=lambda x: x[1], reverse=True)\n",
    "\n",
    "    # 取前20个\n",
    "    sim_scores = sim_scores[1:21]\n",
    "\n",
    "    # 获取电影索引\n",
    "    movie_indices = [i[0] for i in sim_scores]\n",
    "\n",
    "    # 返回前20个相似的电影\n",
    "    return movie_indices, sim_scores"
   ]
  },
  {
   "cell_type": "code",
   "execution_count": 66,
   "metadata": {},
   "outputs": [
    {
     "data": {
      "text/plain": [
       "([38878,\n",
       "  42488,\n",
       "  13449,\n",
       "  1436,\n",
       "  1402,\n",
       "  11620,\n",
       "  28894,\n",
       "  15543,\n",
       "  20067,\n",
       "  22153,\n",
       "  21025,\n",
       "  5729,\n",
       "  14187,\n",
       "  45145,\n",
       "  4418,\n",
       "  6491,\n",
       "  16868,\n",
       "  20324,\n",
       "  9418,\n",
       "  7768],\n",
       " [(38878, 0.1999008154988109),\n",
       "  (42488, 0.1881612126089842),\n",
       "  (13449, 0.1767770034217985),\n",
       "  (1436, 0.17138503558603266),\n",
       "  (1402, 0.15806322749256596),\n",
       "  (11620, 0.15503867219226491),\n",
       "  (28894, 0.1548683789157499),\n",
       "  (15543, 0.152394592626787),\n",
       "  (20067, 0.15222697691572412),\n",
       "  (22153, 0.14842828514745462),\n",
       "  (21025, 0.14573239508646105),\n",
       "  (5729, 0.1415591028351987),\n",
       "  (14187, 0.14024451670660942),\n",
       "  (45145, 0.13889345135547232),\n",
       "  (4418, 0.13765307408806274),\n",
       "  (6491, 0.13621694290098224),\n",
       "  (16868, 0.13604858544970225),\n",
       "  (20324, 0.1334226789983759),\n",
       "  (9418, 0.13282367450099755),\n",
       "  (7768, 0.13159000409852512)])"
      ]
     },
     "execution_count": 66,
     "metadata": {},
     "output_type": "execute_result"
    }
   ],
   "source": [
    "get_recommendations('Heat')"
   ]
  },
  {
   "cell_type": "code",
   "execution_count": 7,
   "metadata": {},
   "outputs": [
    {
     "name": "stderr",
     "output_type": "stream",
     "text": [
      "100%|██████████| 45436/45436 [11:52<00:00, 63.79it/s]\n"
     ]
    }
   ],
   "source": [
    "# 存储结果的列表\n",
    "related_movie_list = []\n",
    "\n",
    "# 读取movieId\n",
    "movieId = movie['movieId'].unique()\n",
    "\n",
    "from tqdm import tqdm\n",
    "# 为每个movieId计算相似的movieId\n",
    "for i in tqdm(movieId):\n",
    "    # 获取相似的movieId\n",
    "    related_movieId, score = get_recommendations(movie[movie['movieId'] == i]['title'].values[0])\n",
    "    \n",
    "    # 将movieId, related_movieId, score保存到related_movie_list\n",
    "    for j in range(len(related_movieId)):\n",
    "        related_movie_list.append({'movieId': i, 'related_movieId': related_movieId[j], 'score': score[j][1]})\n",
    "\n",
    "# 将结果列表转换为DataFrame\n",
    "related_movie = pd.DataFrame(related_movie_list)\n",
    "\n",
    "# 保存为csv\n",
    "related_movie.to_csv('result/related_movie.csv', index=True, header=True)"
   ]
  },
  {
   "cell_type": "code",
   "execution_count": 8,
   "metadata": {},
   "outputs": [],
   "source": [
    "# related_movie保存为csv时去掉第一列\n",
    "\n",
    "related_movie.to_csv('result/related_movie.csv', index=False, header=True)"
   ]
  },
  {
   "attachments": {},
   "cell_type": "markdown",
   "metadata": {},
   "source": [
    "# 协同过滤用户主页推荐\n"
   ]
  },
  {
   "cell_type": "code",
   "execution_count": 15,
   "metadata": {},
   "outputs": [
    {
     "data": {
      "text/html": [
       "<div>\n",
       "<style scoped>\n",
       "    .dataframe tbody tr th:only-of-type {\n",
       "        vertical-align: middle;\n",
       "    }\n",
       "\n",
       "    .dataframe tbody tr th {\n",
       "        vertical-align: top;\n",
       "    }\n",
       "\n",
       "    .dataframe thead th {\n",
       "        text-align: right;\n",
       "    }\n",
       "</style>\n",
       "<table border=\"1\" class=\"dataframe\">\n",
       "  <thead>\n",
       "    <tr style=\"text-align: right;\">\n",
       "      <th></th>\n",
       "      <th>userId</th>\n",
       "      <th>movieId</th>\n",
       "      <th>rating</th>\n",
       "      <th>timestamp</th>\n",
       "    </tr>\n",
       "  </thead>\n",
       "  <tbody>\n",
       "    <tr>\n",
       "      <th>0</th>\n",
       "      <td>1</td>\n",
       "      <td>31</td>\n",
       "      <td>2.5</td>\n",
       "      <td>1260759144</td>\n",
       "    </tr>\n",
       "    <tr>\n",
       "      <th>1</th>\n",
       "      <td>1</td>\n",
       "      <td>1029</td>\n",
       "      <td>3.0</td>\n",
       "      <td>1260759179</td>\n",
       "    </tr>\n",
       "    <tr>\n",
       "      <th>2</th>\n",
       "      <td>1</td>\n",
       "      <td>1061</td>\n",
       "      <td>3.0</td>\n",
       "      <td>1260759182</td>\n",
       "    </tr>\n",
       "    <tr>\n",
       "      <th>3</th>\n",
       "      <td>1</td>\n",
       "      <td>1129</td>\n",
       "      <td>2.0</td>\n",
       "      <td>1260759185</td>\n",
       "    </tr>\n",
       "    <tr>\n",
       "      <th>4</th>\n",
       "      <td>1</td>\n",
       "      <td>1172</td>\n",
       "      <td>4.0</td>\n",
       "      <td>1260759205</td>\n",
       "    </tr>\n",
       "  </tbody>\n",
       "</table>\n",
       "</div>"
      ],
      "text/plain": [
       "   userId  movieId  rating   timestamp\n",
       "0       1       31     2.5  1260759144\n",
       "1       1     1029     3.0  1260759179\n",
       "2       1     1061     3.0  1260759182\n",
       "3       1     1129     2.0  1260759185\n",
       "4       1     1172     4.0  1260759205"
      ]
     },
     "execution_count": 15,
     "metadata": {},
     "output_type": "execute_result"
    }
   ],
   "source": [
    "import pandas as pd\n",
    "from surprise import Reader, Dataset, SVD\n",
    "from surprise.model_selection import cross_validate\n",
    "\n",
    "reader = Reader()\n",
    "# 读取ratings.csv\n",
    "ratings = pd.read_csv('dataset/themovie/data_origin/ratings_small.csv')\n",
    "ratings.head(5)"
   ]
  },
  {
   "cell_type": "code",
   "execution_count": 16,
   "metadata": {},
   "outputs": [
    {
     "data": {
      "text/plain": [
       "{'test_rmse': array([0.89837285, 0.88938036, 0.90212185, 0.90468165, 0.89173562]),\n",
       " 'test_mae': array([0.69297839, 0.687292  , 0.69400552, 0.69531867, 0.68556561]),\n",
       " 'fit_time': (0.625288724899292,\n",
       "  0.6209487915039062,\n",
       "  0.6138882637023926,\n",
       "  0.6668648719787598,\n",
       "  0.643740177154541),\n",
       " 'test_time': (0.0625617504119873,\n",
       "  0.06306624412536621,\n",
       "  0.0644834041595459,\n",
       "  0.07670426368713379,\n",
       "  0.06699919700622559)}"
      ]
     },
     "execution_count": 16,
     "metadata": {},
     "output_type": "execute_result"
    }
   ],
   "source": [
    "data = Dataset.load_from_df(ratings[['userId', 'movieId', 'rating']], reader)\n",
    "\n",
    "svd = SVD()\n",
    "cross_validate(svd, data, measures=['RMSE', 'MAE'], cv=5)"
   ]
  },
  {
   "cell_type": "code",
   "execution_count": 17,
   "metadata": {},
   "outputs": [
    {
     "data": {
      "text/plain": [
       "<surprise.prediction_algorithms.matrix_factorization.SVD at 0x277463299c0>"
      ]
     },
     "execution_count": 17,
     "metadata": {},
     "output_type": "execute_result"
    }
   ],
   "source": [
    "trainset = data.build_full_trainset()\n",
    "svd.fit(trainset)"
   ]
  },
  {
   "cell_type": "code",
   "execution_count": 18,
   "metadata": {},
   "outputs": [
    {
     "data": {
      "text/html": [
       "<div>\n",
       "<style scoped>\n",
       "    .dataframe tbody tr th:only-of-type {\n",
       "        vertical-align: middle;\n",
       "    }\n",
       "\n",
       "    .dataframe tbody tr th {\n",
       "        vertical-align: top;\n",
       "    }\n",
       "\n",
       "    .dataframe thead th {\n",
       "        text-align: right;\n",
       "    }\n",
       "</style>\n",
       "<table border=\"1\" class=\"dataframe\">\n",
       "  <thead>\n",
       "    <tr style=\"text-align: right;\">\n",
       "      <th></th>\n",
       "      <th>userId</th>\n",
       "      <th>movieId</th>\n",
       "      <th>rating</th>\n",
       "      <th>timestamp</th>\n",
       "    </tr>\n",
       "  </thead>\n",
       "  <tbody>\n",
       "    <tr>\n",
       "      <th>0</th>\n",
       "      <td>1</td>\n",
       "      <td>31</td>\n",
       "      <td>2.5</td>\n",
       "      <td>1260759144</td>\n",
       "    </tr>\n",
       "    <tr>\n",
       "      <th>1</th>\n",
       "      <td>1</td>\n",
       "      <td>1029</td>\n",
       "      <td>3.0</td>\n",
       "      <td>1260759179</td>\n",
       "    </tr>\n",
       "    <tr>\n",
       "      <th>2</th>\n",
       "      <td>1</td>\n",
       "      <td>1061</td>\n",
       "      <td>3.0</td>\n",
       "      <td>1260759182</td>\n",
       "    </tr>\n",
       "    <tr>\n",
       "      <th>3</th>\n",
       "      <td>1</td>\n",
       "      <td>1129</td>\n",
       "      <td>2.0</td>\n",
       "      <td>1260759185</td>\n",
       "    </tr>\n",
       "    <tr>\n",
       "      <th>4</th>\n",
       "      <td>1</td>\n",
       "      <td>1172</td>\n",
       "      <td>4.0</td>\n",
       "      <td>1260759205</td>\n",
       "    </tr>\n",
       "    <tr>\n",
       "      <th>5</th>\n",
       "      <td>1</td>\n",
       "      <td>1263</td>\n",
       "      <td>2.0</td>\n",
       "      <td>1260759151</td>\n",
       "    </tr>\n",
       "    <tr>\n",
       "      <th>6</th>\n",
       "      <td>1</td>\n",
       "      <td>1287</td>\n",
       "      <td>2.0</td>\n",
       "      <td>1260759187</td>\n",
       "    </tr>\n",
       "    <tr>\n",
       "      <th>7</th>\n",
       "      <td>1</td>\n",
       "      <td>1293</td>\n",
       "      <td>2.0</td>\n",
       "      <td>1260759148</td>\n",
       "    </tr>\n",
       "    <tr>\n",
       "      <th>8</th>\n",
       "      <td>1</td>\n",
       "      <td>1339</td>\n",
       "      <td>3.5</td>\n",
       "      <td>1260759125</td>\n",
       "    </tr>\n",
       "    <tr>\n",
       "      <th>9</th>\n",
       "      <td>1</td>\n",
       "      <td>1343</td>\n",
       "      <td>2.0</td>\n",
       "      <td>1260759131</td>\n",
       "    </tr>\n",
       "    <tr>\n",
       "      <th>10</th>\n",
       "      <td>1</td>\n",
       "      <td>1371</td>\n",
       "      <td>2.5</td>\n",
       "      <td>1260759135</td>\n",
       "    </tr>\n",
       "    <tr>\n",
       "      <th>11</th>\n",
       "      <td>1</td>\n",
       "      <td>1405</td>\n",
       "      <td>1.0</td>\n",
       "      <td>1260759203</td>\n",
       "    </tr>\n",
       "    <tr>\n",
       "      <th>12</th>\n",
       "      <td>1</td>\n",
       "      <td>1953</td>\n",
       "      <td>4.0</td>\n",
       "      <td>1260759191</td>\n",
       "    </tr>\n",
       "    <tr>\n",
       "      <th>13</th>\n",
       "      <td>1</td>\n",
       "      <td>2105</td>\n",
       "      <td>4.0</td>\n",
       "      <td>1260759139</td>\n",
       "    </tr>\n",
       "    <tr>\n",
       "      <th>14</th>\n",
       "      <td>1</td>\n",
       "      <td>2150</td>\n",
       "      <td>3.0</td>\n",
       "      <td>1260759194</td>\n",
       "    </tr>\n",
       "    <tr>\n",
       "      <th>15</th>\n",
       "      <td>1</td>\n",
       "      <td>2193</td>\n",
       "      <td>2.0</td>\n",
       "      <td>1260759198</td>\n",
       "    </tr>\n",
       "    <tr>\n",
       "      <th>16</th>\n",
       "      <td>1</td>\n",
       "      <td>2294</td>\n",
       "      <td>2.0</td>\n",
       "      <td>1260759108</td>\n",
       "    </tr>\n",
       "    <tr>\n",
       "      <th>17</th>\n",
       "      <td>1</td>\n",
       "      <td>2455</td>\n",
       "      <td>2.5</td>\n",
       "      <td>1260759113</td>\n",
       "    </tr>\n",
       "    <tr>\n",
       "      <th>18</th>\n",
       "      <td>1</td>\n",
       "      <td>2968</td>\n",
       "      <td>1.0</td>\n",
       "      <td>1260759200</td>\n",
       "    </tr>\n",
       "    <tr>\n",
       "      <th>19</th>\n",
       "      <td>1</td>\n",
       "      <td>3671</td>\n",
       "      <td>3.0</td>\n",
       "      <td>1260759117</td>\n",
       "    </tr>\n",
       "  </tbody>\n",
       "</table>\n",
       "</div>"
      ],
      "text/plain": [
       "    userId  movieId  rating   timestamp\n",
       "0        1       31     2.5  1260759144\n",
       "1        1     1029     3.0  1260759179\n",
       "2        1     1061     3.0  1260759182\n",
       "3        1     1129     2.0  1260759185\n",
       "4        1     1172     4.0  1260759205\n",
       "5        1     1263     2.0  1260759151\n",
       "6        1     1287     2.0  1260759187\n",
       "7        1     1293     2.0  1260759148\n",
       "8        1     1339     3.5  1260759125\n",
       "9        1     1343     2.0  1260759131\n",
       "10       1     1371     2.5  1260759135\n",
       "11       1     1405     1.0  1260759203\n",
       "12       1     1953     4.0  1260759191\n",
       "13       1     2105     4.0  1260759139\n",
       "14       1     2150     3.0  1260759194\n",
       "15       1     2193     2.0  1260759198\n",
       "16       1     2294     2.0  1260759108\n",
       "17       1     2455     2.5  1260759113\n",
       "18       1     2968     1.0  1260759200\n",
       "19       1     3671     3.0  1260759117"
      ]
     },
     "execution_count": 18,
     "metadata": {},
     "output_type": "execute_result"
    }
   ],
   "source": [
    "ratings[ratings['userId'] == 1]"
   ]
  },
  {
   "cell_type": "code",
   "execution_count": 19,
   "metadata": {},
   "outputs": [
    {
     "data": {
      "text/plain": [
       "Prediction(uid=1, iid=302, r_ui=3, est=2.8076565821376933, details={'was_impossible': False})"
      ]
     },
     "execution_count": 19,
     "metadata": {},
     "output_type": "execute_result"
    }
   ],
   "source": [
    "svd.predict(1, 302, 3)"
   ]
  },
  {
   "cell_type": "code",
   "execution_count": 20,
   "metadata": {},
   "outputs": [
    {
     "name": "stderr",
     "output_type": "stream",
     "text": [
      "100%|██████████| 671/671 [00:22<00:00, 29.53it/s]\n"
     ]
    }
   ],
   "source": [
    "# 为当前每个用户所有可能的电影预测评分\n",
    "def predict_rating(userId, movieId):\n",
    "    return svd.predict(userId, movieId).est\n",
    "\n",
    "# 为当前用户推荐前n个电影\n",
    "def recommend_movie(userId, movieId_list, n=20):\n",
    "    # 为当前用户的所有电影预测评分\n",
    "    movies = movieId_list\n",
    "    predict_ratings = {}\n",
    "    for movieId in movies:\n",
    "        predict_ratings[movieId] = predict_rating(userId, movieId)\n",
    "    \n",
    "    # 根据评分排序\n",
    "    sorted_predict_ratings = sorted(predict_ratings.items(), key=lambda x: x[1], reverse=True)\n",
    "    \n",
    "    # 返回前n个电影\n",
    "    return sorted_predict_ratings[:n]\n",
    "\n",
    "# 获取userId列表\n",
    "userId_list = ratings['userId'].unique()\n",
    "\n",
    "# 获取movieId列表\n",
    "movieId_list = ratings['movieId'].unique()\n",
    "\n",
    "# 存储结果的列表\n",
    "recommend_movie_list = []\n",
    "\n",
    "# 为每个用户推荐前20个电影\n",
    "for userId in tqdm(userId_list):\n",
    "    recommend_list = recommend_movie(userId, movieId_list)\n",
    "    for i in range(len(recommend_list)):\n",
    "        recommend_movie_list.append({'userId': userId, 'movieId': recommend_list[i][0], 'rating': recommend_list[i][1]})\n",
    "\n",
    "# 将结果列表转换为DataFrame\n",
    "recommend_movie = pd.DataFrame(recommend_movie_list)\n",
    "\n",
    "# 保存为csv\n",
    "recommend_movie.to_csv('result/recommend_movie.csv', index=False, header=True)"
   ]
  }
 ],
 "metadata": {
  "kernelspec": {
   "display_name": "Python 3",
   "language": "python",
   "name": "python3"
  },
  "language_info": {
   "codemirror_mode": {
    "name": "ipython",
    "version": 3
   },
   "file_extension": ".py",
   "mimetype": "text/x-python",
   "name": "python",
   "nbconvert_exporter": "python",
   "pygments_lexer": "ipython3",
   "version": "3.10.5"
  },
  "orig_nbformat": 4
 },
 "nbformat": 4,
 "nbformat_minor": 2
}
