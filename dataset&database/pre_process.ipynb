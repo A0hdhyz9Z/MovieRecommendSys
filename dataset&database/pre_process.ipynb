{
 "cells": [
  {
   "attachments": {},
   "cell_type": "markdown",
   "metadata": {},
   "source": [
    "# 导入包"
   ]
  },
  {
   "cell_type": "code",
   "execution_count": null,
   "metadata": {},
   "outputs": [],
   "source": [
    "import pandas as pd\n",
    "import numpy as np\n",
    "import json\n",
    "import ast\n",
    "\n",
    "# 修改 numpy 的默认配置\n",
    "np.set_printoptions(threshold=np.inf, linewidth=np.inf)"
   ]
  },
  {
   "attachments": {},
   "cell_type": "markdown",
   "metadata": {},
   "source": [
    "# 处理数据，展开json\n",
    "## credits.csv"
   ]
  },
  {
   "cell_type": "code",
   "execution_count": null,
   "metadata": {},
   "outputs": [],
   "source": [
    "# 读取credits.csv\n",
    "df = pd.read_csv('data_origin/credits.csv')\n",
    "\n",
    "# 先处理cast\n",
    "# 将 'cast' 列中的 JSON 数据转换为 Python 对象\n",
    "df['cast'] = df['cast'].apply(ast.literal_eval)\n",
    "\n",
    "# 使用列表推导式将 'cast' 列中的 JSON 数据展开为一个新的列表\n",
    "list = []\n",
    "for idx, row in df.iterrows():\n",
    "    for cast in row['cast']:\n",
    "        list.append({'id': row['id'], 'cast_cast_id': cast['cast_id'], 'cast_character': cast['character'], 'cast_credit_id': cast['credit_id'], 'cast_gender': cast['gender'], 'cast_id':cast['id'], 'cast_name': cast['name'], 'cast_order': cast['order'], 'cast_profile_path': cast['profile_path']})\n",
    "\n",
    "# 将列表转换为 DataFrame 并保存为 CSV 文件\n",
    "result_df = pd.DataFrame(list, columns=['id', 'cast_cast_id', 'cast_character', 'cast_credit_id', 'cast_gender', 'cast_id', 'cast_name', 'cast_order', 'cast_profile_path'])\n",
    "\n",
    "# 保存为新的 CSV 文件\n",
    "result_df.to_csv('data_process/cast.csv', index=False)\n"
   ]
  },
  {
   "cell_type": "code",
   "execution_count": null,
   "metadata": {},
   "outputs": [],
   "source": [
    "# 再处理crew\n",
    "df = pd.read_csv('data_origin/credits.csv')\n",
    "# 将 'crew' 列中的 JSON 数据转换为 Python 对象\n",
    "df['crew'] = df['crew'].apply(ast.literal_eval)\n",
    "\n",
    "# 使用列表推导式将 'crew' 列中的 JSON 数据展开为一个新的列表\n",
    "list = []\n",
    "for idx, row in df.iterrows():\n",
    "    for crew in row['crew']:\n",
    "        list.append({'id': row['id'], 'crew_credit_id': crew['credit_id'], 'crew_department': crew['department'], 'crew_gender': crew['gender'], 'crew_id': crew['id'], 'crew_job': crew['job'], 'crew_name': crew['name'], 'crew_profile_path': crew['profile_path']})\n",
    "# 将列表转换为 DataFrame 并保存为 CSV 文件\n",
    "result_df = pd.DataFrame(list, columns=['id', 'crew_credit_id', 'crew_department', 'crew_gender', 'crew_id', 'crew_job', 'crew_name', 'crew_profile_path'])\n",
    "\n",
    "# 保存为新的 CSV 文件\n",
    "result_df.to_csv('data_process/crew.csv', index=False)"
   ]
  },
  {
   "attachments": {},
   "cell_type": "markdown",
   "metadata": {},
   "source": [
    "## keywords.csv"
   ]
  },
  {
   "cell_type": "code",
   "execution_count": null,
   "metadata": {},
   "outputs": [],
   "source": [
    "# 读取keywords.csv\n",
    "df = pd.read_csv('data_origin/keywords.csv')\n",
    "\n",
    "# 将 'keywords' 列中的 JSON 数据转换为 Python 对象\n",
    "df['keywords'] = df['keywords'].apply(ast.literal_eval)\n",
    "\n",
    "# 使用列表推导式将 'keywords' 列中的 JSON 数据展开为一个新的列表\n",
    "list = []\n",
    "for idx, row in df.iterrows():\n",
    "    for keyword in row['keywords']:\n",
    "        list.append({'id': row['id'], 'keyword_id': keyword['id'], 'keyword_name': keyword['name']})\n",
    "\n",
    "# 将列表转换为 DataFrame 并保存为 CSV 文件\n",
    "result_df = pd.DataFrame(list, columns=['id', 'keyword_id', 'keyword_name'])\n",
    "\n",
    "# 保存为新的 CSV 文件\n",
    "result_df.to_csv('data_process/keywords.csv', index=False)"
   ]
  },
  {
   "attachments": {},
   "cell_type": "markdown",
   "metadata": {},
   "source": [
    "## movies_metadata.csv"
   ]
  },
  {
   "cell_type": "code",
   "execution_count": null,
   "metadata": {},
   "outputs": [],
   "source": [
    "# 读取movies_metadata.csv\n",
    "df = pd.read_csv('data_origin/movies_metadata.csv')\n",
    "\n",
    "# 先处理genre\n",
    "\n",
    "# 将 'genres' 列中的 JSON 数据转换为 Python 对象\n",
    "df['genres'] = df['genres'].apply(ast.literal_eval)\n",
    "\n",
    "# 使用列表推导式将 'genres' 列中的 JSON 数据展开为一个新的列表\n",
    "list = []\n",
    "for idx, row in df.iterrows():\n",
    "    for genre in row['genres']:\n",
    "        list.append({'id': row['id'], 'genres_id': genre['id'], 'genres_name': genre['name']})\n",
    "\n",
    "# 将列表转换为 DataFrame 并保存为 CSV 文件\n",
    "result_df = pd.DataFrame(list, columns=['id', 'genres_id', 'genres_name'])\n",
    "\n",
    "# 保存为新的 CSV 文件\n",
    "result_df.to_csv('data_process/genres.csv', index=False)"
   ]
  },
  {
   "attachments": {},
   "cell_type": "markdown",
   "metadata": {},
   "source": [
    "# 转化为可以导入mysql的sql文件\n",
    "## actor表"
   ]
  },
  {
   "cell_type": "code",
   "execution_count": null,
   "metadata": {},
   "outputs": [],
   "source": [
    "# 读取data_process/cast.csv\n",
    "df = pd.read_csv('data_process/cast.csv', usecols=['cast_id', 'cast_name', 'cast_gender'])\n",
    "\n",
    "# 删除重复cast_cast_id的行\n",
    "df = df.drop_duplicates(subset=['cast_id'])\n",
    "\n",
    "# 重命名列名\n",
    "df = df.rename(columns={'cast_id': 'actorId', 'cast_name': 'actorName', 'cast_gender': 'gender'})\n",
    "\n",
    "# 保存为新的 CSV 文件\n",
    "df.to_csv('data_sql/actor.csv', index=False)"
   ]
  },
  {
   "attachments": {},
   "cell_type": "markdown",
   "metadata": {},
   "source": [
    "## cast表"
   ]
  },
  {
   "cell_type": "code",
   "execution_count": null,
   "metadata": {},
   "outputs": [],
   "source": [
    "# 读取data_process/cast.csv\n",
    "df = pd.read_csv('data_process/cast.csv', usecols=['cast_order', 'cast_character', 'cast_cast_id', 'cast_id', 'cast_profile_path', 'id'])\n",
    "\n",
    "# 重命名列名\n",
    "df = df.rename(columns={'cast_order': 'order', 'cast_character': 'character', 'cast_cast_id': 'castId', 'cast_id': 'actorId', 'cast_profilePath': 'ProfilePath', 'id': 'movieId'})\n",
    "\n",
    "# 保存为新的 CSV 文件\n",
    "df.to_csv('data_sql/cast.csv', index=False)"
   ]
  },
  {
   "attachments": {},
   "cell_type": "markdown",
   "metadata": {},
   "source": [
    "## worker表"
   ]
  },
  {
   "cell_type": "code",
   "execution_count": null,
   "metadata": {},
   "outputs": [],
   "source": [
    "# 读取data_process/crew.csv\n",
    "df = pd.read_csv('data_process/crew.csv', usecols=['crew_id', 'crew_name', 'crew_gender'])\n",
    "\n",
    "# 删除重复crew_id的行\n",
    "df = df.drop_duplicates(subset=['crew_id'])\n",
    "\n",
    "# 重命名列名\n",
    "df = df.rename(columns={'crew_id': 'workerId', 'crew_name': 'workerName', 'crew_gender': 'gender'})\n",
    "\n",
    "# 保存为新的 CSV 文件\n",
    "df.to_csv('data_sql/worker.csv', index=False)"
   ]
  },
  {
   "attachments": {},
   "cell_type": "markdown",
   "metadata": {},
   "source": [
    "## crew表"
   ]
  },
  {
   "cell_type": "code",
   "execution_count": null,
   "metadata": {},
   "outputs": [],
   "source": [
    "# 读取data_process/crew.csv\n",
    "df = pd.read_csv('data_process/crew.csv', usecols=['crew_credit_id', 'crew_department', 'crew_job', 'crew_id', 'crew_profile_path', 'id'])\n",
    "\n",
    "# 重命名列名\n",
    "df = df.rename(columns={'crew_credit_id': 'creditId', 'crew_department': 'department', 'crew_job': 'job', 'crew_id': 'workerId', 'crew_profile_path': 'profilePath', 'id': 'movieId'})\n",
    "\n",
    "# 保存为新的 CSV 文件\n",
    "df.to_csv('data_sql/crew.csv', index=False)"
   ]
  },
  {
   "attachments": {},
   "cell_type": "markdown",
   "metadata": {},
   "source": [
    "## keywords表"
   ]
  },
  {
   "cell_type": "code",
   "execution_count": null,
   "metadata": {},
   "outputs": [],
   "source": [
    "# 读取data_process/keywords.csv\n",
    "df = pd.read_csv('data_process/keywords.csv', usecols=['id', 'keyword_id'])\n",
    "\n",
    "# 重命名列名\n",
    "df = df.rename(columns={'id': 'movieId', 'keyword_id': 'keywordId'})\n",
    "\n",
    "# 保存为新的 CSV 文件\n",
    "df.to_csv('data_sql/keywords.csv', index=False)\n"
   ]
  },
  {
   "attachments": {},
   "cell_type": "markdown",
   "metadata": {},
   "source": [
    "## taghub表"
   ]
  },
  {
   "cell_type": "code",
   "execution_count": null,
   "metadata": {},
   "outputs": [],
   "source": [
    "# 读取data_process/keywords.csv\n",
    "df = pd.read_csv('data_process/keywords.csv', usecols=['keyword_id', 'keyword_name'])\n",
    "\n",
    "# 删除重复keyword_id的行\n",
    "df = df.drop_duplicates(subset=['keyword_id'])\n",
    "\n",
    "# 重命名列名\n",
    "df = df.rename(columns={'keyword_id': 'keywordId', 'keyword_name': 'keywordName'})\n",
    "\n",
    "# 保存为新的 CSV 文件\n",
    "df.to_csv('data_sql/taghub.csv', index=False)"
   ]
  },
  {
   "attachments": {},
   "cell_type": "markdown",
   "metadata": {},
   "source": [
    "## user表"
   ]
  },
  {
   "cell_type": "code",
   "execution_count": 46,
   "metadata": {},
   "outputs": [],
   "source": [
    "# 读取data_origin/ratings.csv\n",
    "df = pd.read_csv('data_origin/ratings.csv', usecols=['userId'])\n",
    "\n",
    "# 删除重复userId的行\n",
    "df = df.drop_duplicates(subset=['userId'])\n",
    "\n",
    "# 保存为新的 CSV 文件\n",
    "df.to_csv('data_sql/user.csv', index=False)"
   ]
  },
  {
   "attachments": {},
   "cell_type": "markdown",
   "metadata": {},
   "source": [
    "## rate表"
   ]
  },
  {
   "cell_type": "code",
   "execution_count": null,
   "metadata": {},
   "outputs": [],
   "source": [
    "# 读取data_origin/ratings.csv\n",
    "df = pd.read_csv('data_origin/ratings.csv', usecols=['userId', 'movieId', 'rating'])\n",
    "\n",
    "# 保存为新的 CSV 文件\n",
    "df.to_csv('data_sql/rate.csv', index=False)"
   ]
  },
  {
   "attachments": {},
   "cell_type": "markdown",
   "metadata": {},
   "source": [
    "## genrehub表"
   ]
  },
  {
   "cell_type": "code",
   "execution_count": null,
   "metadata": {},
   "outputs": [],
   "source": [
    "# 读取data_process/genres.csv\n",
    "df = pd.read_csv('data_process/genres.csv', usecols=['genres_id', 'genres_name'])\n",
    "\n",
    "# 删除重复genres_id的行\n",
    "df = df.drop_duplicates(subset=['genres_id'])\n",
    "\n",
    "# 重命名列名\n",
    "df = df.rename(columns={'genres_id': 'genreId', 'genres_name': 'genreName'})\n",
    "\n",
    "# 保存为新的 CSV 文件\n",
    "df.to_csv('data_sql/genrehub.csv', index=False)"
   ]
  },
  {
   "attachments": {},
   "cell_type": "markdown",
   "metadata": {},
   "source": [
    "## movie表"
   ]
  },
  {
   "cell_type": "code",
   "execution_count": 47,
   "metadata": {},
   "outputs": [
    {
     "name": "stderr",
     "output_type": "stream",
     "text": [
      "C:\\Users\\13107\\AppData\\Local\\Temp\\ipykernel_31024\\521268390.py:2: DtypeWarning: Columns (10) have mixed types. Specify dtype option on import or set low_memory=False.\n",
      "  df = pd.read_csv('data_origin/movies_metadata.csv')\n"
     ]
    }
   ],
   "source": [
    "# 读取movies_metadata.csv\n",
    "df = pd.read_csv('data_origin/movies_metadata.csv')\n",
    "\n",
    "# 保留需要的列\n",
    "df = df[['id', 'adult', 'budget', 'homepage', 'original_language', 'original_title', 'overview', 'popularity', 'poster_path', 'release_date', 'revenue', 'runtime', 'status', 'tagline', 'title', 'video', 'vote_average', 'vote_count']]\n",
    "\n",
    "# 重命名列名\n",
    "df.rename(columns={'id': 'movieId', 'original_language': 'originalLanguage', 'original_title': 'originalTitle', 'release_date': 'releaseDate', 'poster_path': 'posterPath', 'vote_average': 'voteAverage', 'vote_count': 'voteCount'}, inplace=True)\n",
    "\n",
    "# 将overview列缩减为前100个字符\n",
    "df['overview'] = df['overview'].str[:100]\n",
    "\n",
    "# 保存为新的 CSV 文件\n",
    "df.to_csv('data_sql/movie.csv', index=False)"
   ]
  },
  {
   "attachments": {},
   "cell_type": "markdown",
   "metadata": {},
   "source": [
    "## genre表"
   ]
  },
  {
   "cell_type": "code",
   "execution_count": 45,
   "metadata": {},
   "outputs": [],
   "source": [
    "# 读取data_process/genres.csv\n",
    "df = pd.read_csv('data_process/genres.csv', usecols=['id', 'genres_id'])\n",
    "\n",
    "# 重命名列名\n",
    "df = df.rename(columns={'id': 'movieId', 'genres_id': 'genreId'})\n",
    "\n",
    "# 保存为新的 CSV 文件\n",
    "df.to_csv('data_sql/genres.csv', index=False)"
   ]
  }
 ],
 "metadata": {
  "kernelspec": {
   "display_name": "Python 3",
   "language": "python",
   "name": "python3"
  },
  "language_info": {
   "codemirror_mode": {
    "name": "ipython",
    "version": 3
   },
   "file_extension": ".py",
   "mimetype": "text/x-python",
   "name": "python",
   "nbconvert_exporter": "python",
   "pygments_lexer": "ipython3",
   "version": "3.10.5"
  },
  "orig_nbformat": 4
 },
 "nbformat": 4,
 "nbformat_minor": 2
}
